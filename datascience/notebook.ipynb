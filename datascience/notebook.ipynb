{
 "cells": [
  {
   "cell_type": "markdown",
   "source": [],
   "metadata": {
    "collapsed": false
   }
  },
  {
   "cell_type": "code",
   "execution_count": 2,
   "metadata": {
    "collapsed": true
   },
   "outputs": [],
   "source": [
    "from chalk.client import ChalkClient\n",
    "from datetime import datetime, timezone, timedelta\n",
    "from src.models import *\n"
   ]
  },
  {
   "cell_type": "markdown",
   "source": [
    "## Construct a client to query features"
   ],
   "metadata": {
    "collapsed": false
   }
  },
  {
   "cell_type": "code",
   "execution_count": 3,
   "outputs": [
    {
     "ename": "ChalkAuthException",
     "evalue": "Explicit `client_id` and `client_secret` are not provided, there is no `~/.chalk.yml` file with applicable credentials, and the environment variables `CHALK_CLIENT_ID` and `CHALK_CLIENT_SECRET` are not set. You may need to run `chalk login` from your command line, or check that your working directory is set to the root of your project.",
     "output_type": "error",
     "traceback": [
      "\u001B[0;31m---------------------------------------------------------------------------\u001B[0m",
      "\u001B[0;31mChalkAuthException\u001B[0m                        Traceback (most recent call last)",
      "Cell \u001B[0;32mIn[3], line 1\u001B[0m\n\u001B[0;32m----> 1\u001B[0m client \u001B[38;5;241m=\u001B[39m \u001B[43mChalkClient\u001B[49m\u001B[43m(\u001B[49m\u001B[43m)\u001B[49m\n",
      "File \u001B[0;32m~/dev/chalk/chalk/client/__init__.py:1298\u001B[0m, in \u001B[0;36mChalkClient.__new__\u001B[0;34m(cls, *args, **kwargs)\u001B[0m\n\u001B[1;32m   1295\u001B[0m \u001B[38;5;28;01mdef\u001B[39;00m \u001B[38;5;21m__new__\u001B[39m(\u001B[38;5;28mcls\u001B[39m, \u001B[38;5;241m*\u001B[39margs: Any, \u001B[38;5;241m*\u001B[39m\u001B[38;5;241m*\u001B[39mkwargs: Any):\n\u001B[1;32m   1296\u001B[0m     \u001B[38;5;28;01mfrom\u001B[39;00m \u001B[38;5;21;01mchalk\u001B[39;00m\u001B[38;5;21;01m.\u001B[39;00m\u001B[38;5;21;01mclient\u001B[39;00m\u001B[38;5;21;01m.\u001B[39;00m\u001B[38;5;21;01mclient_impl\u001B[39;00m \u001B[38;5;28;01mimport\u001B[39;00m ChalkAPIClientImpl\n\u001B[0;32m-> 1298\u001B[0m     \u001B[38;5;28;01mreturn\u001B[39;00m \u001B[43mChalkAPIClientImpl\u001B[49m\u001B[43m(\u001B[49m\u001B[38;5;241;43m*\u001B[39;49m\u001B[43margs\u001B[49m\u001B[43m,\u001B[49m\u001B[43m \u001B[49m\u001B[38;5;241;43m*\u001B[39;49m\u001B[38;5;241;43m*\u001B[39;49m\u001B[43mkwargs\u001B[49m\u001B[43m)\u001B[49m\n",
      "File \u001B[0;32m~/dev/chalk/chalk/client/client_impl.py:353\u001B[0m, in \u001B[0;36mChalkAPIClientImpl.__new__\u001B[0;34m(cls, *args, **kwargs)\u001B[0m\n\u001B[1;32m    351\u001B[0m \u001B[38;5;28;01mdef\u001B[39;00m \u001B[38;5;21m__new__\u001B[39m(\u001B[38;5;28mcls\u001B[39m, \u001B[38;5;241m*\u001B[39margs: Any, \u001B[38;5;241m*\u001B[39m\u001B[38;5;241m*\u001B[39mkwargs: Any) \u001B[38;5;241m-\u001B[39m\u001B[38;5;241m>\u001B[39m ChalkClient:\n\u001B[1;32m    352\u001B[0m     obj \u001B[38;5;241m=\u001B[39m \u001B[38;5;28mobject\u001B[39m\u001B[38;5;241m.\u001B[39m\u001B[38;5;21m__new__\u001B[39m(ChalkAPIClientImpl)\n\u001B[0;32m--> 353\u001B[0m     \u001B[43mobj\u001B[49m\u001B[38;5;241;43m.\u001B[39;49m\u001B[38;5;21;43m__init__\u001B[39;49m\u001B[43m(\u001B[49m\u001B[38;5;241;43m*\u001B[39;49m\u001B[43margs\u001B[49m\u001B[43m,\u001B[49m\u001B[43m \u001B[49m\u001B[38;5;241;43m*\u001B[39;49m\u001B[38;5;241;43m*\u001B[39;49m\u001B[43mkwargs\u001B[49m\u001B[43m)\u001B[49m\n\u001B[1;32m    354\u001B[0m     \u001B[38;5;28;01mreturn\u001B[39;00m obj\n",
      "File \u001B[0;32m~/dev/chalk/chalk/client/client_impl.py:377\u001B[0m, in \u001B[0;36mChalkAPIClientImpl.__init__\u001B[0;34m(self, client_id, client_secret, environment, api_server, query_server, branch, _skip_cache, session, additional_headers)\u001B[0m\n\u001B[1;32m    369\u001B[0m token \u001B[38;5;241m=\u001B[39m load_token(\n\u001B[1;32m    370\u001B[0m     client_id\u001B[38;5;241m=\u001B[39mclient_id,\n\u001B[1;32m    371\u001B[0m     client_secret\u001B[38;5;241m=\u001B[39mclient_secret,\n\u001B[0;32m   (...)\u001B[0m\n\u001B[1;32m    374\u001B[0m     skip_cache\u001B[38;5;241m=\u001B[39m_skip_cache,\n\u001B[1;32m    375\u001B[0m )\n\u001B[1;32m    376\u001B[0m \u001B[38;5;28;01mif\u001B[39;00m token \u001B[38;5;129;01mis\u001B[39;00m \u001B[38;5;28;01mNone\u001B[39;00m:\n\u001B[0;32m--> 377\u001B[0m     \u001B[38;5;28;01mraise\u001B[39;00m ChalkAuthException()\n\u001B[1;32m    379\u001B[0m api_server \u001B[38;5;241m=\u001B[39m token\u001B[38;5;241m.\u001B[39mapiServer \u001B[38;5;129;01mor\u001B[39;00m \u001B[38;5;124m\"\u001B[39m\u001B[38;5;124mhttps://api.chalk.ai\u001B[39m\u001B[38;5;124m\"\u001B[39m\n\u001B[1;32m    380\u001B[0m \u001B[38;5;28mself\u001B[39m\u001B[38;5;241m.\u001B[39m_config \u001B[38;5;241m=\u001B[39m _ChalkClientConfig(\n\u001B[1;32m    381\u001B[0m     name\u001B[38;5;241m=\u001B[39mtoken\u001B[38;5;241m.\u001B[39mname \u001B[38;5;129;01mor\u001B[39;00m \u001B[38;5;124m\"\u001B[39m\u001B[38;5;124m\"\u001B[39m,\n\u001B[1;32m    382\u001B[0m     client_id\u001B[38;5;241m=\u001B[39mtoken\u001B[38;5;241m.\u001B[39mclientId,\n\u001B[0;32m   (...)\u001B[0m\n\u001B[1;32m    387\u001B[0m     active_environment\u001B[38;5;241m=\u001B[39mtoken\u001B[38;5;241m.\u001B[39mactiveEnvironment,\n\u001B[1;32m    388\u001B[0m )\n",
      "\u001B[0;31mChalkAuthException\u001B[0m: Explicit `client_id` and `client_secret` are not provided, there is no `~/.chalk.yml` file with applicable credentials, and the environment variables `CHALK_CLIENT_ID` and `CHALK_CLIENT_SECRET` are not set. You may need to run `chalk login` from your command line, or check that your working directory is set to the root of your project."
     ]
    }
   ],
   "source": [
    "client = ChalkClient()"
   ],
   "metadata": {
    "collapsed": false
   }
  },
  {
   "cell_type": "markdown",
   "source": [
    "## Choose primary keys to sample"
   ],
   "metadata": {
    "collapsed": false
   }
  },
  {
   "cell_type": "code",
   "execution_count": 4,
   "outputs": [
    {
     "ename": "NameError",
     "evalue": "name 'client' is not defined",
     "output_type": "error",
     "traceback": [
      "\u001B[0;31m---------------------------------------------------------------------------\u001B[0m",
      "\u001B[0;31mNameError\u001B[0m                                 Traceback (most recent call last)",
      "Cell \u001B[0;32mIn[4], line 2\u001B[0m\n\u001B[1;32m      1\u001B[0m now \u001B[38;5;241m=\u001B[39m datetime\u001B[38;5;241m.\u001B[39mnow(tz\u001B[38;5;241m=\u001B[39mtimezone\u001B[38;5;241m.\u001B[39mutc)\n\u001B[0;32m----> 2\u001B[0m ds \u001B[38;5;241m=\u001B[39m \u001B[43mclient\u001B[49m\u001B[38;5;241m.\u001B[39moffline_query(\n\u001B[1;32m      3\u001B[0m     output\u001B[38;5;241m=\u001B[39m[User\u001B[38;5;241m.\u001B[39mid],\n\u001B[1;32m      4\u001B[0m     lower_bound\u001B[38;5;241m=\u001B[39mnow \u001B[38;5;241m-\u001B[39m timedelta(hours\u001B[38;5;241m=\u001B[39m\u001B[38;5;241m12\u001B[39m),\n\u001B[1;32m      5\u001B[0m     upper_bound\u001B[38;5;241m=\u001B[39mnow,\n\u001B[1;32m      6\u001B[0m )\n",
      "\u001B[0;31mNameError\u001B[0m: name 'client' is not defined"
     ]
    }
   ],
   "source": [
    "now = datetime.now(tz=timezone.utc)\n",
    "ds = client.offline_query(\n",
    "    output=[User.id],\n",
    "    lower_bound=now - timedelta(hours=12),\n",
    "    upper_bound=now,\n",
    ")"
   ],
   "metadata": {
    "collapsed": false
   }
  },
  {
   "cell_type": "markdown",
   "source": [
    "## Sample historical values"
   ],
   "metadata": {
    "collapsed": false
   }
  },
  {
   "cell_type": "code",
   "execution_count": null,
   "outputs": [],
   "source": [],
   "metadata": {
    "collapsed": false
   }
  },
  {
   "cell_type": "markdown",
   "source": [
    "## Recompute a dataset"
   ],
   "metadata": {
    "collapsed": false
   }
  },
  {
   "cell_type": "code",
   "execution_count": null,
   "outputs": [],
   "source": [],
   "metadata": {
    "collapsed": false
   }
  }
 ],
 "metadata": {
  "kernelspec": {
   "display_name": "Python 3",
   "language": "python",
   "name": "python3"
  },
  "language_info": {
   "codemirror_mode": {
    "name": "ipython",
    "version": 2
   },
   "file_extension": ".py",
   "mimetype": "text/x-python",
   "name": "python",
   "nbconvert_exporter": "python",
   "pygments_lexer": "ipython2",
   "version": "2.7.6"
  }
 },
 "nbformat": 4,
 "nbformat_minor": 0
}
